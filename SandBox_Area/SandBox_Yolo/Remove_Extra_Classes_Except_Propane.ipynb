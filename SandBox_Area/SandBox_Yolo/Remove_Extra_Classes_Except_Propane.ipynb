{
 "cells": [
  {
   "cell_type": "code",
   "execution_count": 2,
   "id": "8ba1a64e",
   "metadata": {},
   "outputs": [],
   "source": [
    "import os\n",
    "\n",
    "target_class_id = 3\n",
    "\n",
    "def filter_labels(root_dir):\n",
    "    for split in [\"train\", \"valid\", \"test\"]:\n",
    "        labels_dir = os.path.join(root_dir, split, \"labels\")\n",
    "        for filename in os.listdir(labels_dir):\n",
    "            filepath = os.path.join(labels_dir, filename)\n",
    "            with open(filepath, 'r') as f:\n",
    "                lines = f.readlines()\n",
    "            filtered = []\n",
    "            for line in lines:\n",
    "                if line.startswith(str(target_class_id) + \" \"):\n",
    "                    parts = line.strip().split()\n",
    "                    parts[0] = \"0\"\n",
    "                    filtered.append(\" \".join(parts))\n",
    "            with open(filepath, 'w') as f:\n",
    "                f.write(\"\\n\".join(filtered) + \"\\n\" if filtered else \"\")"
   ]
  },
  {
   "cell_type": "code",
   "execution_count": 5,
   "id": "b897640c",
   "metadata": {},
   "outputs": [],
   "source": [
    "filter_labels(\"G:\\Shared drives\\Computer Vision for Energy Efficiency\\Datasets 10 2 2025/yolov11\")"
   ]
  },
  {
   "cell_type": "code",
   "execution_count": null,
   "id": "6b1853e3",
   "metadata": {},
   "outputs": [],
   "source": []
  }
 ],
 "metadata": {
  "kernelspec": {
   "display_name": "yolo",
   "language": "python",
   "name": "python3"
  },
  "language_info": {
   "codemirror_mode": {
    "name": "ipython",
    "version": 3
   },
   "file_extension": ".py",
   "mimetype": "text/x-python",
   "name": "python",
   "nbconvert_exporter": "python",
   "pygments_lexer": "ipython3",
   "version": "3.10.16"
  }
 },
 "nbformat": 4,
 "nbformat_minor": 5
}
