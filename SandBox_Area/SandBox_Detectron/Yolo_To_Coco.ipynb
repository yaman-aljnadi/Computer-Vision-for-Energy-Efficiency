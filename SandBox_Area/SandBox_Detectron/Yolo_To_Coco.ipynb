{
 "cells": [
  {
   "cell_type": "code",
   "execution_count": null,
   "id": "649c13ec",
   "metadata": {},
   "outputs": [
    {
     "name": "stdout",
     "output_type": "stream",
     "text": [
      "COCO annotation saved to coco_annotations.json\n"
     ]
    }
   ],
   "source": [
    "import os\n",
    "import json\n",
    "import cv2\n",
    "from glob import glob\n",
    "import numpy as np\n",
    "\n",
    "image_dir = \"../SandBox_Area/yolov11_Propane/test/images\"  \n",
    "label_dir = \"../SandBox_Area/yolov11_Propane/test/labels\"  \n",
    "output_json = \"coco_annotations.json\"\n",
    "\n",
    "class_names = ['Garage', 'House', 'Other', 'Propane', 'Trailer']\n",
    "category_mapping = {i: name for i, name in enumerate(class_names)}\n",
    "\n",
    "coco_output = {\n",
    "    \"images\": [],\n",
    "    \"annotations\": [],\n",
    "    \"categories\": [{\"id\": i, \"name\": name, \"supercategory\": \"none\"} for i, name in enumerate(class_names)]\n",
    "}\n",
    "\n",
    "annotation_id = 1\n",
    "image_id = 1\n",
    "\n",
    "def yolo_to_coco_segmentation(segmentation, img_width, img_height):\n",
    "    points = []\n",
    "    for i in range(0, len(segmentation), 2):\n",
    "        x = float(segmentation[i]) * img_width\n",
    "        y = float(segmentation[i + 1]) * img_height\n",
    "        points.extend([x, y])\n",
    "    return [points] \n",
    "\n",
    "for img_path in glob(os.path.join(image_dir, \"*.jpg\")) + glob(os.path.join(image_dir, \"*.png\")):\n",
    "    filename = os.path.basename(img_path)\n",
    "    image = cv2.imread(img_path)\n",
    "    height, width = image.shape[:2]\n",
    "\n",
    "    coco_output[\"images\"].append({\n",
    "        \"id\": image_id,\n",
    "        \"file_name\": filename,\n",
    "        \"width\": width,\n",
    "        \"height\": height\n",
    "    })\n",
    "\n",
    "    label_path = os.path.join(label_dir, os.path.splitext(filename)[0] + \".txt\")\n",
    "    if not os.path.exists(label_path):\n",
    "        image_id += 1\n",
    "        continue\n",
    "\n",
    "    with open(label_path, \"r\") as f:\n",
    "        for line in f:\n",
    "            parts = line.strip().split()\n",
    "            if len(parts) < 8:\n",
    "                continue  # Skip incomplete annotations\n",
    "            class_id = int(parts[0])\n",
    "            segmentation = parts[5:]  \n",
    "            seg_points = yolo_to_coco_segmentation(segmentation, width, height)\n",
    "\n",
    "            coco_output[\"annotations\"].append({\n",
    "                \"id\": annotation_id,\n",
    "                \"image_id\": image_id,\n",
    "                \"category_id\": class_id,\n",
    "                \"segmentation\": seg_points,\n",
    "                \"area\": cv2.contourArea(\n",
    "                    cv2.UMat(\n",
    "                        np.array(seg_points[0], dtype=np.float32).reshape(-1, 2)\n",
    "                    )\n",
    "                ),\n",
    "                \"bbox\": cv2.boundingRect(\n",
    "                    np.array(seg_points[0], dtype=np.float32).reshape(-1, 2)\n",
    "                ),\n",
    "                \"iscrowd\": 0\n",
    "            })\n",
    "            annotation_id += 1\n",
    "\n",
    "    image_id += 1\n",
    "\n",
    "with open(output_json, \"w\") as f:\n",
    "    json.dump(coco_output, f, indent=2)\n",
    "\n",
    "print(f\"COCO annotation saved to {output_json}\")\n"
   ]
  },
  {
   "cell_type": "code",
   "execution_count": null,
   "id": "9dd73bcb",
   "metadata": {},
   "outputs": [],
   "source": []
  }
 ],
 "metadata": {
  "kernelspec": {
   "display_name": "yolo",
   "language": "python",
   "name": "python3"
  },
  "language_info": {
   "codemirror_mode": {
    "name": "ipython",
    "version": 3
   },
   "file_extension": ".py",
   "mimetype": "text/x-python",
   "name": "python",
   "nbconvert_exporter": "python",
   "pygments_lexer": "ipython3",
   "version": "3.10.16"
  }
 },
 "nbformat": 4,
 "nbformat_minor": 5
}
