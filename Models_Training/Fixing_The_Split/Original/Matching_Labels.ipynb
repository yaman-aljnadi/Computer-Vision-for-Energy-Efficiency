{
 "cells": [
  {
   "cell_type": "code",
   "execution_count": 2,
   "id": "410d6b2c",
   "metadata": {},
   "outputs": [
    {
     "name": "stdout",
     "output_type": "stream",
     "text": [
      "Moved 75 annotation files to 'valid/labels'.\n"
     ]
    }
   ],
   "source": [
    "import os\n",
    "import shutil\n",
    "\n",
    "# Set your paths\n",
    "image_folder = \"valid/images\"\n",
    "annotation_folder = \"train/labels\"\n",
    "output_annotation_folder = \"valid/labels\"\n",
    "\n",
    "# Create the output folder if it doesn't exist\n",
    "os.makedirs(output_annotation_folder, exist_ok=True)\n",
    "\n",
    "# Get all image base names (without extensions)\n",
    "image_names = {os.path.splitext(f)[0] for f in os.listdir(image_folder) if f.lower().endswith(('.jpg', '.jpeg', '.png'))}\n",
    "\n",
    "# Move matching annotation files\n",
    "moved = 0\n",
    "for annotation_file in os.listdir(annotation_folder):\n",
    "    base_name, ext = os.path.splitext(annotation_file)\n",
    "    if base_name in image_names:\n",
    "        src = os.path.join(annotation_folder, annotation_file)\n",
    "        dst = os.path.join(output_annotation_folder, annotation_file)\n",
    "        shutil.move(src, dst)\n",
    "        moved += 1\n",
    "\n",
    "print(f\"Moved {moved} annotation files to '{output_annotation_folder}'.\")\n"
   ]
  },
  {
   "cell_type": "code",
   "execution_count": 2,
   "id": "96c2f5c2",
   "metadata": {},
   "outputs": [
    {
     "name": "stdout",
     "output_type": "stream",
     "text": [
      "Deleted 0 matched annotation files from 'train/labels'.\n"
     ]
    }
   ],
   "source": [
    "import os\n",
    "\n",
    "# Set your paths\n",
    "image_folder = \"test/images\"\n",
    "annotation_folder = \"train/labels\"\n",
    "\n",
    "# Get all image base names (without extensions)\n",
    "image_names = {os.path.splitext(f)[0] for f in os.listdir(image_folder) if f.lower().endswith(('.jpg', '.jpeg', '.png'))}\n",
    "\n",
    "# Delete matching annotation files\n",
    "deleted = 0\n",
    "for annotation_file in os.listdir(annotation_folder):\n",
    "    base_name, ext = os.path.splitext(annotation_file)\n",
    "    if base_name in image_names:\n",
    "        file_path = os.path.join(annotation_folder, annotation_file)\n",
    "        if os.path.isfile(file_path):\n",
    "            os.remove(file_path)\n",
    "            deleted += 1\n",
    "\n",
    "print(f\"Deleted {deleted} matched annotation files from '{annotation_folder}'.\")"
   ]
  },
  {
   "cell_type": "code",
   "execution_count": null,
   "id": "ae703995",
   "metadata": {},
   "outputs": [],
   "source": []
  }
 ],
 "metadata": {
  "kernelspec": {
   "display_name": "summer",
   "language": "python",
   "name": "python3"
  },
  "language_info": {
   "codemirror_mode": {
    "name": "ipython",
    "version": 3
   },
   "file_extension": ".py",
   "mimetype": "text/x-python",
   "name": "python",
   "nbconvert_exporter": "python",
   "pygments_lexer": "ipython3",
   "version": "3.10.16"
  }
 },
 "nbformat": 4,
 "nbformat_minor": 5
}
