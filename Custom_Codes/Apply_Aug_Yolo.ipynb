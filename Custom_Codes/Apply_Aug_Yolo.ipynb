{
 "cells": [
  {
   "cell_type": "code",
   "execution_count": 1,
   "id": "18905027",
   "metadata": {},
   "outputs": [
    {
     "name": "stderr",
     "output_type": "stream",
     "text": [
      "  0%|          | 0/300 [00:00<?, ?it/s]\n"
     ]
    },
    {
     "ename": "ValueError",
     "evalue": "too many values to unpack (expected 5)",
     "output_type": "error",
     "traceback": [
      "\u001b[1;31m---------------------------------------------------------------------------\u001b[0m",
      "\u001b[1;31mValueError\u001b[0m                                Traceback (most recent call last)",
      "Cell \u001b[1;32mIn[1], line 44\u001b[0m\n\u001b[0;32m     42\u001b[0m class_ids \u001b[38;5;241m=\u001b[39m []\n\u001b[0;32m     43\u001b[0m \u001b[38;5;28;01mfor\u001b[39;00m ann \u001b[38;5;129;01min\u001b[39;00m annotations:\n\u001b[1;32m---> 44\u001b[0m     \u001b[38;5;28mcls\u001b[39m, x, y, w, h \u001b[38;5;241m=\u001b[39m \u001b[38;5;28mmap\u001b[39m(\u001b[38;5;28mfloat\u001b[39m, ann\u001b[38;5;241m.\u001b[39mstrip()\u001b[38;5;241m.\u001b[39msplit())\n\u001b[0;32m     45\u001b[0m     bboxes\u001b[38;5;241m.\u001b[39mappend([x, y, w, h])\n\u001b[0;32m     46\u001b[0m     class_ids\u001b[38;5;241m.\u001b[39mappend(\u001b[38;5;28mint\u001b[39m(\u001b[38;5;28mcls\u001b[39m))\n",
      "\u001b[1;31mValueError\u001b[0m: too many values to unpack (expected 5)"
     ]
    }
   ],
   "source": [
    "import os\n",
    "import cv2\n",
    "import albumentations as A\n",
    "from glob import glob\n",
    "from tqdm import tqdm\n",
    "\n",
    "IMG_DIR = 'D:/MTU_Satelite_Project/Yaman_Dataset/Yolo11/Re_annotated_and_combined_images_no_aug/train/images'\n",
    "LBL_DIR = 'D:/MTU_Satelite_Project/Yaman_Dataset/Yolo11/Re_annotated_and_combined_images_no_aug/train/labels'\n",
    "OUT_IMG_DIR = 'D:/MTU_Satelite_Project/Yaman_Dataset/Yolo11/Re_annotated_and_combined_images_aug/images/train_aug'\n",
    "OUT_LBL_DIR = 'D:/MTU_Satelite_Project/Yaman_Dataset/Yolo11/Re_annotated_and_combined_images_aug/labels/train_aug'\n",
    "N_AUG_PER_IMAGE = 3  \n",
    "\n",
    "os.makedirs(OUT_IMG_DIR, exist_ok=True)\n",
    "os.makedirs(OUT_LBL_DIR, exist_ok=True)\n",
    "\n",
    "transform = A.Compose([\n",
    "    A.HorizontalFlip(p=0.5),\n",
    "    A.VerticalFlip(p=0.5),\n",
    "    A.Rotate(limit=30, p=0.5),\n",
    "    A.RandomBrightnessContrast(p=0.5),\n",
    "    A.HueSaturationValue(p=0.3),\n",
    "    A.GaussianBlur(p=0.2),\n",
    "    A.GaussNoise(p=0.2),\n",
    "    A.RandomScale(scale_limit=0.2, p=0.5),\n",
    "], bbox_params=A.BboxParams(format='yolo', label_fields=['category_ids']))\n",
    "\n",
    "image_paths = glob(os.path.join(IMG_DIR, '*.jpg')) \n",
    "\n",
    "for img_path in tqdm(image_paths):\n",
    "    img = cv2.imread(img_path)\n",
    "    height, width, _ = img.shape\n",
    "    base_name = os.path.splitext(os.path.basename(img_path))[0]\n",
    "    label_path = os.path.join(LBL_DIR, f\"{base_name}.txt\")\n",
    "\n",
    "    if not os.path.exists(label_path):\n",
    "        continue\n",
    "\n",
    "    with open(label_path, 'r') as f:\n",
    "        annotations = f.readlines()\n",
    "\n",
    "    bboxes = []\n",
    "    class_ids = []\n",
    "    for ann in annotations:\n",
    "        cls, x, y, w, h = map(float, ann.strip().split())\n",
    "        bboxes.append([x, y, w, h])\n",
    "        class_ids.append(int(cls))\n",
    "\n",
    "    for i in range(N_AUG_PER_IMAGE):\n",
    "        try:\n",
    "            augmented = transform(image=img, bboxes=bboxes, category_ids=class_ids)\n",
    "        except Exception:\n",
    "            continue  \n",
    "\n",
    "        aug_img = augmented['image']\n",
    "        aug_bboxes = augmented['bboxes']\n",
    "        aug_classes = augmented['category_ids']\n",
    "\n",
    "        aug_img_name = f\"{base_name}_aug{i}.jpg\"\n",
    "        cv2.imwrite(os.path.join(OUT_IMG_DIR, aug_img_name), aug_img)\n",
    "\n",
    "        with open(os.path.join(OUT_LBL_DIR, f\"{base_name}_aug{i}.txt\"), 'w') as f:\n",
    "            for cls, bbox in zip(aug_classes, aug_bboxes):\n",
    "                x, y, w, h = bbox\n",
    "                f.write(f\"{cls} {x:.6f} {y:.6f} {w:.6f} {h:.6f}\\n\")\n"
   ]
  },
  {
   "cell_type": "code",
   "execution_count": null,
   "id": "703d27cf",
   "metadata": {},
   "outputs": [],
   "source": []
  }
 ],
 "metadata": {
  "kernelspec": {
   "display_name": "summer",
   "language": "python",
   "name": "python3"
  },
  "language_info": {
   "codemirror_mode": {
    "name": "ipython",
    "version": 3
   },
   "file_extension": ".py",
   "mimetype": "text/x-python",
   "name": "python",
   "nbconvert_exporter": "python",
   "pygments_lexer": "ipython3",
   "version": "3.10.16"
  }
 },
 "nbformat": 4,
 "nbformat_minor": 5
}
