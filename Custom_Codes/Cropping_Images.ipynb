{
 "cells": [
  {
   "cell_type": "code",
   "execution_count": null,
   "id": "622a7990",
   "metadata": {},
   "outputs": [
    {
     "name": "stdout",
     "output_type": "stream",
     "text": [
      "Done cropping all images.\n"
     ]
    }
   ],
   "source": [
    "import cv2\n",
    "import os\n",
    "\n",
    "input_folder = '../Custom_Created_Images/Original'\n",
    "output_folder = '../Custom_Created_Images/Cropped'\n",
    "os.makedirs(output_folder, exist_ok=True)\n",
    "\n",
    "crop_size = 1280\n",
    "\n",
    "for filename in os.listdir(input_folder):\n",
    "    if filename.lower().endswith(('.jpg', '.jpeg', '.png', '.bmp')):\n",
    "        img_path = os.path.join(input_folder, filename)\n",
    "        img = cv2.imread(img_path)\n",
    "        h, w = img.shape[:2]\n",
    "\n",
    "        \n",
    "        x_start = (w - crop_size) // 2\n",
    "        y_start = (h - crop_size) // 2\n",
    "\n",
    "        cropped = img[y_start:y_start + crop_size, x_start:x_start + crop_size]\n",
    "        cv2.imwrite(os.path.join(output_folder, filename), cropped)\n",
    "\n",
    "print(\"Done cropping all images.\")\n"
   ]
  },
  {
   "cell_type": "code",
   "execution_count": null,
   "id": "a43e8c55",
   "metadata": {},
   "outputs": [],
   "source": []
  }
 ],
 "metadata": {
  "kernelspec": {
   "display_name": "summer",
   "language": "python",
   "name": "python3"
  },
  "language_info": {
   "codemirror_mode": {
    "name": "ipython",
    "version": 3
   },
   "file_extension": ".py",
   "mimetype": "text/x-python",
   "name": "python",
   "nbconvert_exporter": "python",
   "pygments_lexer": "ipython3",
   "version": "3.10.16"
  }
 },
 "nbformat": 4,
 "nbformat_minor": 5
}
