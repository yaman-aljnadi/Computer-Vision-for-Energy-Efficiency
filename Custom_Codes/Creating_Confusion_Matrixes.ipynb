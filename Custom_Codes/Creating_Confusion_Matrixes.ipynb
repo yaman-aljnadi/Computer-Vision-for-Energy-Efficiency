{
 "cells": [
  {
   "cell_type": "code",
   "execution_count": null,
   "id": "12ecf41d",
   "metadata": {},
   "outputs": [],
   "source": [
    "import seaborn as sns\n",
    "import matplotlib.pyplot as plt\n",
    "import pandas as pd\n",
    "\n",
    "\n",
    "data = [\n",
    "    [38, 14, 0, 0, 1, 9],\n",
    "    [8, 247, 2, 0, 1, 11],\n",
    "    [2, 5, 10, 0, 0, 1],\n",
    "    [0, 0, 0, 120, 0, 75],\n",
    "    [0, 0, 0, 0, 29, 8],\n",
    "    [22, 36, 15, 57, 12, 0]\n",
    "]\n",
    "\n",
    "\n",
    "labels = ['Garage', 'House', 'Other', 'Propane', 'Trailer', 'Background']\n",
    "\n",
    "\n",
    "df_cm = pd.DataFrame(data, index=labels, columns=labels)\n",
    "\n",
    "plt.figure(figsize=(10, 8))\n",
    "sns.heatmap(df_cm, annot=True, fmt=\"d\", cmap=\"Blues\")\n",
    "plt.title(\"Confusion Matrix (without 'None')\")\n",
    "plt.ylabel(\"Predicted\")\n",
    "plt.xlabel(\"True\")\n",
    "plt.show()\n"
   ]
  }
 ],
 "metadata": {
  "kernelspec": {
   "display_name": "summer",
   "language": "python",
   "name": "python3"
  },
  "language_info": {
   "name": "python",
   "version": "3.10.16"
  }
 },
 "nbformat": 4,
 "nbformat_minor": 5
}
