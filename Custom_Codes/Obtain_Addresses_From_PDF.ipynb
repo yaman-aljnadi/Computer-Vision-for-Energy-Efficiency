{
 "cells": [
  {
   "cell_type": "code",
   "execution_count": 6,
   "id": "a3a705a7",
   "metadata": {},
   "outputs": [],
   "source": [
    "import pdfplumber\n",
    "import re\n",
    "import json\n",
    "\n",
    "pdf_path = \"../Documentation/2024 DOR Property Records Agenda.pdf\"\n",
    "\n",
    "addresses = []\n",
    "\n",
    "# Pattern for lines ending with \"Town of Agenda\"\n",
    "footer_pattern = re.compile(r\"(.+?, Town of Agenda)\")\n",
    "\n",
    "# Pattern to detect a single-line address (from \"Property address:\")\n",
    "single_line_address = re.compile(r\"^\\d{5,}\\s.+\")  # e.g. \"16617 North Rd\"\n",
    "\n",
    "with pdfplumber.open(pdf_path) as pdf:\n",
    "    for page in pdf.pages:\n",
    "        text = page.extract_text()\n",
    "        if not text:\n",
    "            continue\n",
    "\n",
    "        lines = text.split(\"\\n\")\n",
    "        \n",
    "        # Check for footer-style addresses\n",
    "        for line in lines:\n",
    "            # Check if line contains an address in the footer\n",
    "            match = footer_pattern.search(line)\n",
    "            if match:\n",
    "                address = match.group(1).strip()\n",
    "                addresses.append(address)\n",
    "        \n",
    "        # Check for addresses under \"Property address:\"\n",
    "        for idx, line in enumerate(lines):\n",
    "            if \"Property address:\" in line:\n",
    "                # Look at the next non-empty line\n",
    "                for next_line in lines[idx+1:]:\n",
    "                    next_line = next_line.strip()\n",
    "                    if next_line:\n",
    "                        if single_line_address.match(next_line):\n",
    "                            print(next_line)\n",
    "                            addresses.append(next_line)\n",
    "                        break\n",
    "\n",
    "# Deduplicate\n",
    "addresses = list(set(addresses))\n",
    "\n",
    "with open(\"addresses.json\", \"w\") as f:\n",
    "    json.dump(addresses, f, indent=2)\n"
   ]
  },
  {
   "cell_type": "code",
   "execution_count": null,
   "id": "f51d5e9e",
   "metadata": {},
   "outputs": [],
   "source": []
  }
 ],
 "metadata": {
  "kernelspec": {
   "display_name": "summer",
   "language": "python",
   "name": "python3"
  },
  "language_info": {
   "codemirror_mode": {
    "name": "ipython",
    "version": 3
   },
   "file_extension": ".py",
   "mimetype": "text/x-python",
   "name": "python",
   "nbconvert_exporter": "python",
   "pygments_lexer": "ipython3",
   "version": "3.10.16"
  }
 },
 "nbformat": 4,
 "nbformat_minor": 5
}
