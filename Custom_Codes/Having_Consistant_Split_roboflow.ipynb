{
 "cells": [
  {
   "cell_type": "code",
   "execution_count": null,
   "id": "8b6352b2",
   "metadata": {},
   "outputs": [
    {
     "name": "stdout",
     "output_type": "stream",
     "text": [
      "Processing train split...\n",
      "[Warning] No match found for original file: 215_jpg.rf.1608f2e1f4ccdc948ce23b34641104f6.jpg\n",
      "[Warning] No match found for original file: 215_jpg.rf.b2a67a98faec83f41a584105357547bd.jpg\n",
      "[Warning] No match found for original file: 215_jpg.rf.ffe227d73bb70916b23e19cc512bb136.jpg\n",
      "[Warning] No match found for original file: 580_jpg.rf.a12e2d63c4e32bf8e89bc54873662dbe.jpg\n",
      "[Warning] No match found for original file: 580_jpg.rf.b6d8f1950a4a07bf6b3490a412083136.jpg\n",
      "Processing valid split...\n",
      "Processing test split...\n",
      "[Warning] No match found for original file: 297_jpg.rf.16f8b84f1aa4da93504c66a05f4e0107.jpg\n",
      "\n",
      "✅ Done. Enhanced dataset split created.\n"
     ]
    }
   ],
   "source": [
    "import os\n",
    "import shutil\n",
    "import re\n",
    "\n",
    "def extract_leading_number(filename):\n",
    "    \"\"\"Extract leading number from the filename before the first underscore.\"\"\"\n",
    "    match = re.match(r\"(\\d+)\", filename)\n",
    "    return match.group(1) if match else None\n",
    "\n",
    "def index_files_by_leading_number(directory):\n",
    "    \"\"\"Index files by leading numbers in a directory, supporting multiple matches.\"\"\"\n",
    "    index = {}\n",
    "    for file in os.listdir(directory):\n",
    "        if file.endswith(('.jpg', '.jpeg', '.png')):\n",
    "            number = extract_leading_number(file)\n",
    "            if number:\n",
    "                index.setdefault(number, []).append(file)\n",
    "    return index\n",
    "\n",
    "def copy_split(original_base, enhanced_dir, output_base):\n",
    "    \"\"\"Copy matched files from enhanced_dir to output_dir based on original split.\"\"\"\n",
    "    for split in ['train', 'valid', 'test']:\n",
    "        original_images_dir = os.path.join(original_base, split, 'images')\n",
    "        output_images_dir = os.path.join(output_base, split, 'images')\n",
    "        os.makedirs(output_images_dir, exist_ok=True)\n",
    "\n",
    "        print(f\"Processing {split} split...\")\n",
    "\n",
    "        \n",
    "        enhanced_index = index_files_by_leading_number(enhanced_dir)\n",
    "\n",
    "        for file in os.listdir(original_images_dir):\n",
    "            number = extract_leading_number(file)\n",
    "            if number and number in enhanced_index:\n",
    "                for matched_file in enhanced_index[number]:\n",
    "                    src_file = os.path.join(enhanced_dir, matched_file)\n",
    "                    dst_file = os.path.join(output_images_dir, matched_file)\n",
    "                    shutil.copy2(src_file, dst_file)\n",
    "            else:\n",
    "                print(f\"[Warning] No match found for original file: {file}\")\n",
    "\n",
    "\n",
    "if __name__ == \"__main__\":\n",
    "    original_dataset = \"H:/Shared drives/Computer Vision for Energy Efficiency/Yaman/Models_Training/Yolov11_seg/Aug_Greyscale_Original/\"\n",
    "    enhanced_dataset = \"H:/Shared drives/Computer Vision for Energy Efficiency/Yaman/Models_Training/Yolov11_seg/Temp/\"\n",
    "    output_dataset = \"H:/Shared drives/Computer Vision for Energy Efficiency/Yaman/Models_Training/Yolov11_seg/Aug_Greyscale_Enhanced_x2_split\"\n",
    "\n",
    "    copy_split(original_dataset, enhanced_dataset, output_dataset)\n",
    "    print(\"\\n✅ Done. Enhanced dataset split created.\")\n"
   ]
  },
  {
   "cell_type": "code",
   "execution_count": null,
   "id": "2277caaf",
   "metadata": {},
   "outputs": [],
   "source": []
  },
  {
   "cell_type": "code",
   "execution_count": null,
   "id": "ec7aad9a",
   "metadata": {},
   "outputs": [],
   "source": []
  }
 ],
 "metadata": {
  "kernelspec": {
   "display_name": "summer",
   "language": "python",
   "name": "python3"
  },
  "language_info": {
   "codemirror_mode": {
    "name": "ipython",
    "version": 3
   },
   "file_extension": ".py",
   "mimetype": "text/x-python",
   "name": "python",
   "nbconvert_exporter": "python",
   "pygments_lexer": "ipython3",
   "version": "3.10.16"
  }
 },
 "nbformat": 4,
 "nbformat_minor": 5
}
