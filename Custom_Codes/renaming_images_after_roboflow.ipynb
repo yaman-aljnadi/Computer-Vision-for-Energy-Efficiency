{
 "cells": [
  {
   "cell_type": "code",
   "execution_count": 2,
   "id": "cd7f55f9",
   "metadata": {},
   "outputs": [
    {
     "ename": "FileExistsError",
     "evalue": "[WinError 183] Cannot create a file when that file already exists: 'H:/Shared drives/Computer Vision for Energy Efficiency/Yaman/Models_Training/Yolov11_seg/Aug_Greyscale_Original/train/images\\\\1000_jpg.rf.e4e468929436a6e48c35491e6061e9ab.jpg' -> 'H:/Shared drives/Computer Vision for Energy Efficiency/Yaman/Models_Training/Yolov11_seg/Aug_Greyscale_Original/train/images\\\\1000.jpg'",
     "output_type": "error",
     "traceback": [
      "\u001b[1;31m---------------------------------------------------------------------------\u001b[0m",
      "\u001b[1;31mFileExistsError\u001b[0m                           Traceback (most recent call last)",
      "Cell \u001b[1;32mIn[2], line 21\u001b[0m\n\u001b[0;32m     18\u001b[0m new_image_path \u001b[38;5;241m=\u001b[39m os\u001b[38;5;241m.\u001b[39mpath\u001b[38;5;241m.\u001b[39mjoin(images_dir, new_image_name)\n\u001b[0;32m     20\u001b[0m \u001b[38;5;66;03m# Rename image\u001b[39;00m\n\u001b[1;32m---> 21\u001b[0m \u001b[43mos\u001b[49m\u001b[38;5;241;43m.\u001b[39;49m\u001b[43mrename\u001b[49m\u001b[43m(\u001b[49m\u001b[43mold_image_path\u001b[49m\u001b[43m,\u001b[49m\u001b[43m \u001b[49m\u001b[43mnew_image_path\u001b[49m\u001b[43m)\u001b[49m\n\u001b[0;32m     23\u001b[0m old_label_name \u001b[38;5;241m=\u001b[39m filename\u001b[38;5;241m.\u001b[39mrsplit(\u001b[38;5;124m'\u001b[39m\u001b[38;5;124m.\u001b[39m\u001b[38;5;124m'\u001b[39m, \u001b[38;5;241m1\u001b[39m)[\u001b[38;5;241m0\u001b[39m] \u001b[38;5;241m+\u001b[39m \u001b[38;5;124m\"\u001b[39m\u001b[38;5;124m.txt\u001b[39m\u001b[38;5;124m\"\u001b[39m\n\u001b[0;32m     24\u001b[0m new_label_name \u001b[38;5;241m=\u001b[39m \u001b[38;5;124mf\u001b[39m\u001b[38;5;124m\"\u001b[39m\u001b[38;5;132;01m{\u001b[39;00mnumber\u001b[38;5;132;01m}\u001b[39;00m\u001b[38;5;124m.txt\u001b[39m\u001b[38;5;124m\"\u001b[39m\n",
      "\u001b[1;31mFileExistsError\u001b[0m: [WinError 183] Cannot create a file when that file already exists: 'H:/Shared drives/Computer Vision for Energy Efficiency/Yaman/Models_Training/Yolov11_seg/Aug_Greyscale_Original/train/images\\\\1000_jpg.rf.e4e468929436a6e48c35491e6061e9ab.jpg' -> 'H:/Shared drives/Computer Vision for Energy Efficiency/Yaman/Models_Training/Yolov11_seg/Aug_Greyscale_Original/train/images\\\\1000.jpg'"
     ]
    }
   ],
   "source": [
    "import os\n",
    "import re\n",
    "import shutil\n",
    "\n",
    "images_dir = 'H:/Shared drives/Computer Vision for Energy Efficiency/Yaman/Models_Training/Yolov11_seg/Aug_Greyscale_Original/train/images'\n",
    "labels_dir = 'H:/Shared drives/Computer Vision for Energy Efficiency/Yaman/Models_Training/Yolov11_seg/Aug_Greyscale_Original/train/labels'\n",
    "\n",
    "pattern = re.compile(r'^(\\d+)_jpg\\.rf\\..+\\.(jpg|png|jpeg)$')\n",
    "\n",
    "for filename in os.listdir(images_dir):\n",
    "    match = pattern.match(filename)\n",
    "    if match:\n",
    "        number = match.group(1)\n",
    "        ext = match.group(2)\n",
    "        \n",
    "        new_image_name = f\"{number}.{ext}\"\n",
    "        old_image_path = os.path.join(images_dir, filename)\n",
    "        new_image_path = os.path.join(images_dir, new_image_name)\n",
    "        \n",
    "        # Rename image\n",
    "        os.rename(old_image_path, new_image_path)\n",
    "\n",
    "        old_label_name = filename.rsplit('.', 1)[0] + \".txt\"\n",
    "        new_label_name = f\"{number}.txt\"\n",
    "        old_label_path = os.path.join(labels_dir, old_label_name)\n",
    "        new_label_path = os.path.join(labels_dir, new_label_name)\n",
    "\n",
    "        if os.path.exists(old_label_path):\n",
    "            os.rename(old_label_path, new_label_path)\n",
    "        else:\n",
    "            print(f\"Warning: Label file not found for image {filename}\")\n"
   ]
  },
  {
   "cell_type": "code",
   "execution_count": null,
   "id": "2134b559",
   "metadata": {},
   "outputs": [],
   "source": []
  }
 ],
 "metadata": {
  "kernelspec": {
   "display_name": "summer",
   "language": "python",
   "name": "python3"
  },
  "language_info": {
   "codemirror_mode": {
    "name": "ipython",
    "version": 3
   },
   "file_extension": ".py",
   "mimetype": "text/x-python",
   "name": "python",
   "nbconvert_exporter": "python",
   "pygments_lexer": "ipython3",
   "version": "3.10.16"
  }
 },
 "nbformat": 4,
 "nbformat_minor": 5
}
